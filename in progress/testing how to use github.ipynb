{
 "cells": [
  {
   "cell_type": "code",
   "execution_count": null,
   "id": "ab71efec",
   "metadata": {},
   "outputs": [],
   "source": [
    "testing jupyter notebook pandas upload"
   ]
  },
  {
   "cell_type": "code",
   "execution_count": null,
   "id": "347bf432",
   "metadata": {},
   "outputs": [],
   "source": [
    "adding a few lines of code"
   ]
  },
  {
   "cell_type": "code",
   "execution_count": null,
   "id": "6ad78360",
   "metadata": {},
   "outputs": [],
   "source": [
    "to make sure it works"
   ]
  },
  {
   "cell_type": "code",
   "execution_count": null,
   "id": "b47f91ba",
   "metadata": {},
   "outputs": [],
   "source": [
    "painting_df = pd.DataFrame([\n",
    "    {\"Painting\": \"Mona Lisa (Knockoff)\", \"Price\": 25,\n",
    "     \"Popularity\": \"Very Popular\"},\n",
    "    {\"Painting\": \"Van Gogh (Knockoff)\", \"Price\": 20, \"Popularity\": \"Popular\"},\n",
    "    {\"Painting\": \"Starving Artist\", \"Price\": 10, \"Popularity\": \"Average\"},\n",
    "    {\"Painting\": \"Toddler Drawing\", \"Price\": 1, \"Popularity\": \"Not Popular\"}\n",
    "])\n",
    "painting_df"
   ]
  }
 ],
 "metadata": {
  "kernelspec": {
   "display_name": "Python 3 (ipykernel)",
   "language": "python",
   "name": "python3"
  },
  "language_info": {
   "codemirror_mode": {
    "name": "ipython",
    "version": 3
   },
   "file_extension": ".py",
   "mimetype": "text/x-python",
   "name": "python",
   "nbconvert_exporter": "python",
   "pygments_lexer": "ipython3",
   "version": "3.11.4"
  }
 },
 "nbformat": 4,
 "nbformat_minor": 5
}
